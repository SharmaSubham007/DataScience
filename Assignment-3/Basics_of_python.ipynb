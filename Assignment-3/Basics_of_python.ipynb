{
 "cells": [
  {
   "cell_type": "markdown",
   "metadata": {},
   "source": [
    "# Exercise 1"
   ]
  },
  {
   "cell_type": "code",
   "execution_count": null,
   "metadata": {},
   "outputs": [],
   "source": [
    "# Program definition\n",
    "def prime_check(number):\n",
    "    if number<=1:   # If number is less than or equal to 1 there are no whole numbers that can be its divisors.\n",
    "        return False\n",
    "    for i in range(2, int(number**0.5)+1): # If a number is exactly divisible by any integer below its root it is not a prime.\n",
    "        if number % i == 0:\n",
    "            return False\n",
    "    return True     # If we cannot find any other divisors then we can return that the number is in fact \"Prime\"\n",
    "\n",
    "# Calling the function\n",
    "number = int(input(\"Enter a number: \")) # Take the input and convert it from string to int\n",
    "if prime_check(number):\n",
    "    print(number, \"is a prime number\")\n",
    "else:\n",
    "    print(number, \"is not a prime number\")"
   ]
  },
  {
   "cell_type": "markdown",
   "metadata": {},
   "source": [
    "# Exercise 2"
   ]
  },
  {
   "cell_type": "code",
   "execution_count": null,
   "metadata": {},
   "outputs": [],
   "source": [
    "import random\n",
    "\n",
    "a = random.randint(1,3)\n",
    "b = random.randint(1,3)\n",
    "\n",
    "product = int(input(\"Enter a value that can be the product of two random integers between 1 and 3:\"))\n",
    "\n",
    "if product == (a*b):\n",
    "    print(\"Correct! The product of\",a,\"and\",b,\"is\",product)\n",
    "else:\n",
    "    print(\"Wrong! The product of\",a,\"and\",b,\"is\",a*b)"
   ]
  },
  {
   "cell_type": "markdown",
   "metadata": {},
   "source": [
    "# Exercise 3"
   ]
  },
  {
   "cell_type": "code",
   "execution_count": null,
   "metadata": {},
   "outputs": [],
   "source": [
    "def print_squares(choice):\n",
    "    if choice == 'even':    # This code prints squares of even numbers\n",
    "        for i in range(100,201):\n",
    "            if i%2 == 0:\n",
    "                print(i**2)\n",
    "    elif choice == 'odd':   # This code prints squares of odd numbers\n",
    "        for i in range(100,200):\n",
    "            if i%2 !=0:\n",
    "                print(i**2)\n",
    "    else:                   # If even or odd is not entered this code will run\n",
    "        print(\"Wrong choice\")\n",
    "\n",
    "# Enter the choice for odd number squares or even number squares\n",
    "choice = input(\"odd or even:\")\n",
    "print_squares(choice)"
   ]
  },
  {
   "cell_type": "markdown",
   "metadata": {},
   "source": [
    "# Exercise 4"
   ]
  },
  {
   "cell_type": "code",
   "execution_count": null,
   "metadata": {},
   "outputs": [],
   "source": [
    "def count_words(input_text):\n",
    "    word_count = {}             # Empty set to store the word and its count\n",
    "    words = input_text.split()  # Split each word and store in an array \"words\"\n",
    "    for word in words:          # Check each word in the array\n",
    "                                # Remove punctuation marks from the word\n",
    "        word = word.strip('.,!?\"\\'')\n",
    "                                # Convert the word to lowercase.(So that 'This' and 'this' are read as the same)\n",
    "        word = word.lower()\n",
    "                                # Increment the count for the word. If the word is already present it will update the count\n",
    "        word_count[word] = word_count.get(word, 0) + 1\n",
    "    return word_count\n",
    "\n",
    "\n",
    "input_text = \"The sky is blue. The water around us is also blue. Blue is my favorite color\"\n",
    "word_counts = count_words(input_text)\n",
    "\n",
    "print(\"The given sentence consists of these words:\")\n",
    "for word, count in word_counts.items():\n",
    "    print(f\"'{word}': {count}\")\n",
    "\n"
   ]
  },
  {
   "cell_type": "markdown",
   "metadata": {},
   "source": [
    "# Exercise 5"
   ]
  },
  {
   "cell_type": "code",
   "execution_count": null,
   "metadata": {},
   "outputs": [],
   "source": [
    "# We can use the two pointer approach to find out if the string is palindrome or not\n",
    "def is_palindrome(string):\n",
    "    left,right = 0, len(string)-1   # Place the left pointer at the start of the string and right pointer at the end of the string\n",
    "    while left < right:\n",
    "        if string[left] != string[right]:   # If any letter of the string is not equal from left and right it cannot be a palindrome\n",
    "            return False\n",
    "        left += 1   # Increment left pointer\n",
    "        right -= 1  # Decrement right pointer\n",
    "    return True\n",
    "\n",
    "is_palindrome(input())"
   ]
  }
 ],
 "metadata": {
  "kernelspec": {
   "display_name": "Python 3",
   "language": "python",
   "name": "python3"
  },
  "language_info": {
   "codemirror_mode": {
    "name": "ipython",
    "version": 3
   },
   "file_extension": ".py",
   "mimetype": "text/x-python",
   "name": "python",
   "nbconvert_exporter": "python",
   "pygments_lexer": "ipython3",
   "version": "3.12.1"
  }
 },
 "nbformat": 4,
 "nbformat_minor": 2
}

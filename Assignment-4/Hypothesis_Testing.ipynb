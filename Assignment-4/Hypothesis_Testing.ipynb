{
 "cells": [
  {
   "cell_type": "code",
   "execution_count": 1,
   "metadata": {},
   "outputs": [],
   "source": [
    "import numpy as np\n",
    "from scipy.stats import norm"
   ]
  },
  {
   "cell_type": "code",
   "execution_count": 2,
   "metadata": {},
   "outputs": [],
   "source": [
    "# Null Hypothesis (H0)\n",
    "H0 = \"The mean weekly operating cost is still as per the theoretical model, mean = $1,000 + $5X.\"\n",
    "# Alternative Hypothesis (H1)\n",
    "H1 = \"The mean weekly operating cost is higher than predicted by the theoretical model, mean > $1,000 + $5X.\""
   ]
  },
  {
   "cell_type": "code",
   "execution_count": 3,
   "metadata": {},
   "outputs": [],
   "source": [
    "# Given data\n",
    "sample_mean = 3050  # sample mean weekly cost (Rs.)\n",
    "theoretical_mean = 4000  # theoretical mean weekly cost according to the model (Rs.)\n",
    "std_dev = 125  # standard deviation (Rs.)\n",
    "sample_size = 25  # sample size\n",
    "alpha = 0.05  # significance level"
   ]
  },
  {
   "cell_type": "code",
   "execution_count": 4,
   "metadata": {},
   "outputs": [
    {
     "name": "stdout",
     "output_type": "stream",
     "text": [
      "Test Statistic (t): -38.0\n"
     ]
    }
   ],
   "source": [
    "# To calculate the test statistic (t) = (¯x¯- 𝝻)/(𝞂/√n)\n",
    "t = (sample_mean - theoretical_mean) / (std_dev / np.sqrt(sample_size))\n",
    "print(\"Test Statistic (t):\", t)"
   ]
  },
  {
   "cell_type": "code",
   "execution_count": 5,
   "metadata": {},
   "outputs": [
    {
     "name": "stdout",
     "output_type": "stream",
     "text": [
      "Critical Value: 1.6448536269514722\n"
     ]
    }
   ],
   "source": [
    "# To find the critical value at alpha level 5%, we can use the normal(z) percent point function.\n",
    "critical_value = norm.ppf(1 - alpha)\n",
    "print(\"Critical Value:\", critical_value)"
   ]
  },
  {
   "cell_type": "code",
   "execution_count": 6,
   "metadata": {},
   "outputs": [
    {
     "name": "stdout",
     "output_type": "stream",
     "text": [
      "There is not enough evidence to support the claim that weekly operating costs are higher than the model suggests.\n",
      "The mean weekly operating cost is still as per the theoretical model, mean = $1,000 + $5X.\n"
     ]
    }
   ],
   "source": [
    "# We can reject the Null Hypothesis if the calculated t-value is greater than critical value.\n",
    "if t > critical_value:\n",
    "    print(\"There is enough evidence to support the claim that weekly operating costs are higher than the model suggests.\")\n",
    "    print(H1)\n",
    "else:\n",
    "    print(\"There is not enough evidence to support the claim that weekly operating costs are higher than the model suggests.\")\n",
    "    print(H0)"
   ]
  }
 ],
 "metadata": {
  "kernelspec": {
   "display_name": "Python 3",
   "language": "python",
   "name": "python3"
  },
  "language_info": {
   "codemirror_mode": {
    "name": "ipython",
    "version": 3
   },
   "file_extension": ".py",
   "mimetype": "text/x-python",
   "name": "python",
   "nbconvert_exporter": "python",
   "pygments_lexer": "ipython3",
   "version": "3.12.1"
  }
 },
 "nbformat": 4,
 "nbformat_minor": 2
}

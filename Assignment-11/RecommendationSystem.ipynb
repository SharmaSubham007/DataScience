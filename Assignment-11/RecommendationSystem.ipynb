{
 "cells": [
  {
   "cell_type": "code",
   "execution_count": 1,
   "metadata": {},
   "outputs": [],
   "source": [
    "import warnings \n",
    "warnings.filterwarnings('ignore')\n",
    "import pandas as pd\n",
    "from sklearn.metrics.pairwise import cosine_similarity\n",
    "from sklearn.model_selection import train_test_split\n",
    "from sklearn.preprocessing import MultiLabelBinarizer, StandardScaler\n",
    "from sklearn.metrics import precision_score, recall_score, f1_score"
   ]
  },
  {
   "cell_type": "code",
   "execution_count": 2,
   "metadata": {},
   "outputs": [
    {
     "data": {
      "text/html": [
       "<div>\n",
       "<style scoped>\n",
       "    .dataframe tbody tr th:only-of-type {\n",
       "        vertical-align: middle;\n",
       "    }\n",
       "\n",
       "    .dataframe tbody tr th {\n",
       "        vertical-align: top;\n",
       "    }\n",
       "\n",
       "    .dataframe thead th {\n",
       "        text-align: right;\n",
       "    }\n",
       "</style>\n",
       "<table border=\"1\" class=\"dataframe\">\n",
       "  <thead>\n",
       "    <tr style=\"text-align: right;\">\n",
       "      <th></th>\n",
       "      <th>anime_id</th>\n",
       "      <th>name</th>\n",
       "      <th>genre</th>\n",
       "      <th>type</th>\n",
       "      <th>episodes</th>\n",
       "      <th>rating</th>\n",
       "      <th>members</th>\n",
       "    </tr>\n",
       "  </thead>\n",
       "  <tbody>\n",
       "    <tr>\n",
       "      <th>0</th>\n",
       "      <td>32281</td>\n",
       "      <td>Kimi no Na wa.</td>\n",
       "      <td>Drama, Romance, School, Supernatural</td>\n",
       "      <td>Movie</td>\n",
       "      <td>1</td>\n",
       "      <td>9.37</td>\n",
       "      <td>200630</td>\n",
       "    </tr>\n",
       "    <tr>\n",
       "      <th>1</th>\n",
       "      <td>5114</td>\n",
       "      <td>Fullmetal Alchemist: Brotherhood</td>\n",
       "      <td>Action, Adventure, Drama, Fantasy, Magic, Mili...</td>\n",
       "      <td>TV</td>\n",
       "      <td>64</td>\n",
       "      <td>9.26</td>\n",
       "      <td>793665</td>\n",
       "    </tr>\n",
       "    <tr>\n",
       "      <th>2</th>\n",
       "      <td>28977</td>\n",
       "      <td>Gintama°</td>\n",
       "      <td>Action, Comedy, Historical, Parody, Samurai, S...</td>\n",
       "      <td>TV</td>\n",
       "      <td>51</td>\n",
       "      <td>9.25</td>\n",
       "      <td>114262</td>\n",
       "    </tr>\n",
       "    <tr>\n",
       "      <th>3</th>\n",
       "      <td>9253</td>\n",
       "      <td>Steins;Gate</td>\n",
       "      <td>Sci-Fi, Thriller</td>\n",
       "      <td>TV</td>\n",
       "      <td>24</td>\n",
       "      <td>9.17</td>\n",
       "      <td>673572</td>\n",
       "    </tr>\n",
       "    <tr>\n",
       "      <th>4</th>\n",
       "      <td>9969</td>\n",
       "      <td>Gintama&amp;#039;</td>\n",
       "      <td>Action, Comedy, Historical, Parody, Samurai, S...</td>\n",
       "      <td>TV</td>\n",
       "      <td>51</td>\n",
       "      <td>9.16</td>\n",
       "      <td>151266</td>\n",
       "    </tr>\n",
       "  </tbody>\n",
       "</table>\n",
       "</div>"
      ],
      "text/plain": [
       "   anime_id                              name  \\\n",
       "0     32281                    Kimi no Na wa.   \n",
       "1      5114  Fullmetal Alchemist: Brotherhood   \n",
       "2     28977                          Gintama°   \n",
       "3      9253                       Steins;Gate   \n",
       "4      9969                     Gintama&#039;   \n",
       "\n",
       "                                               genre   type episodes  rating  \\\n",
       "0               Drama, Romance, School, Supernatural  Movie        1    9.37   \n",
       "1  Action, Adventure, Drama, Fantasy, Magic, Mili...     TV       64    9.26   \n",
       "2  Action, Comedy, Historical, Parody, Samurai, S...     TV       51    9.25   \n",
       "3                                   Sci-Fi, Thriller     TV       24    9.17   \n",
       "4  Action, Comedy, Historical, Parody, Samurai, S...     TV       51    9.16   \n",
       "\n",
       "   members  \n",
       "0   200630  \n",
       "1   793665  \n",
       "2   114262  \n",
       "3   673572  \n",
       "4   151266  "
      ]
     },
     "execution_count": 2,
     "metadata": {},
     "output_type": "execute_result"
    }
   ],
   "source": [
    "data = pd.read_csv('anime.csv')\n",
    "data.head(5)"
   ]
  },
  {
   "cell_type": "code",
   "execution_count": 3,
   "metadata": {},
   "outputs": [
    {
     "name": "stdout",
     "output_type": "stream",
     "text": [
      "<class 'pandas.core.frame.DataFrame'>\n",
      "RangeIndex: 12294 entries, 0 to 12293\n",
      "Data columns (total 7 columns):\n",
      " #   Column    Non-Null Count  Dtype  \n",
      "---  ------    --------------  -----  \n",
      " 0   anime_id  12294 non-null  int64  \n",
      " 1   name      12294 non-null  object \n",
      " 2   genre     12232 non-null  object \n",
      " 3   type      12269 non-null  object \n",
      " 4   episodes  12294 non-null  object \n",
      " 5   rating    12064 non-null  float64\n",
      " 6   members   12294 non-null  int64  \n",
      "dtypes: float64(1), int64(2), object(4)\n",
      "memory usage: 672.5+ KB\n"
     ]
    }
   ],
   "source": [
    "data.info()"
   ]
  },
  {
   "cell_type": "code",
   "execution_count": 4,
   "metadata": {},
   "outputs": [
    {
     "data": {
      "text/plain": [
       "anime_id      0\n",
       "name          0\n",
       "genre        62\n",
       "type         25\n",
       "episodes      0\n",
       "rating      230\n",
       "members       0\n",
       "dtype: int64"
      ]
     },
     "execution_count": 4,
     "metadata": {},
     "output_type": "execute_result"
    }
   ],
   "source": [
    "data.isnull().sum()"
   ]
  },
  {
   "cell_type": "code",
   "execution_count": 5,
   "metadata": {},
   "outputs": [],
   "source": [
    "data.fillna({'genre': '', 'rating': data['rating'].mean(), 'episodes': 0}, inplace=True)\n"
   ]
  },
  {
   "cell_type": "code",
   "execution_count": 6,
   "metadata": {},
   "outputs": [],
   "source": [
    "# Convert 'genre' to numerical representation using one-hot encoding\n",
    "\n",
    "mlb = MultiLabelBinarizer()\n",
    "data['genre'] = data['genre'].apply(lambda x: x.split(', ') if x else [])\n",
    "genre_encoded = mlb.fit_transform(data['genre'])\n",
    "genre_df = pd.DataFrame(genre_encoded, columns = mlb.classes_) # type: ignore"
   ]
  },
  {
   "cell_type": "code",
   "execution_count": 7,
   "metadata": {},
   "outputs": [],
   "source": [
    "# Normalize numerical features\n",
    "scaler = StandardScaler()\n",
    "data['rating'] = scaler.fit_transform(data[['rating']])"
   ]
  },
  {
   "cell_type": "code",
   "execution_count": 8,
   "metadata": {},
   "outputs": [],
   "source": [
    "# Combine features\n",
    "features = pd.concat([genre_df, data[['rating']]], axis=1)"
   ]
  },
  {
   "cell_type": "code",
   "execution_count": 9,
   "metadata": {},
   "outputs": [],
   "source": [
    "# Compute cosine similarity on training set\n",
    "train_features = features.loc[data.index]\n",
    "cos_sim = cosine_similarity(train_features)\n",
    "\n",
    "# Recommendation function based on cosine similarity\n",
    "def recommend_anime(anime_id, df=data, features=train_features, cosine_sim=cos_sim, top_n=10):\n",
    "    idx = df.index[df['anime_id'] == anime_id].tolist()[0]\n",
    "    sim_scores = list(enumerate(cosine_sim[idx]))\n",
    "    sim_scores = sorted(sim_scores, key=lambda x: x[1], reverse=True)\n",
    "    sim_scores = sim_scores[1:top_n+1]\n",
    "    anime_indices = [i[0] for i in sim_scores]\n",
    "    return df.iloc[anime_indices]\n"
   ]
  },
  {
   "cell_type": "code",
   "execution_count": 10,
   "metadata": {},
   "outputs": [],
   "source": [
    "def recommend_anime(anime_id, cosine_sim=cos_sim, df=data, top_n=10):\n",
    "    if anime_id not in df['anime_id'].values:\n",
    "        return pd.DataFrame()  # Return empty DataFrame if anime_id not in training set\n",
    "    \n",
    "    idx = df.index[df['anime_id'] == anime_id].tolist()[0]\n",
    "    sim_scores = list(enumerate(cosine_sim[idx]))\n",
    "    sim_scores = sorted(sim_scores, key=lambda x: x[1], reverse=True)\n",
    "    sim_scores = sim_scores[1:top_n+1]\n",
    "    anime_indices = [i[0] for i in sim_scores]\n",
    "    return df[['anime_id', 'name']].iloc[anime_indices]\n"
   ]
  },
  {
   "cell_type": "code",
   "execution_count": 11,
   "metadata": {},
   "outputs": [
    {
     "data": {
      "text/html": [
       "<div>\n",
       "<style scoped>\n",
       "    .dataframe tbody tr th:only-of-type {\n",
       "        vertical-align: middle;\n",
       "    }\n",
       "\n",
       "    .dataframe tbody tr th {\n",
       "        vertical-align: top;\n",
       "    }\n",
       "\n",
       "    .dataframe thead th {\n",
       "        text-align: right;\n",
       "    }\n",
       "</style>\n",
       "<table border=\"1\" class=\"dataframe\">\n",
       "  <thead>\n",
       "    <tr style=\"text-align: right;\">\n",
       "      <th></th>\n",
       "      <th>anime_id</th>\n",
       "      <th>name</th>\n",
       "    </tr>\n",
       "  </thead>\n",
       "  <tbody>\n",
       "    <tr>\n",
       "      <th>344</th>\n",
       "      <td>781</td>\n",
       "      <td>Detective Conan Movie 03: The Last Wizard of t...</td>\n",
       "    </tr>\n",
       "    <tr>\n",
       "      <th>345</th>\n",
       "      <td>1363</td>\n",
       "      <td>Detective Conan Movie 04: Captured in Her Eyes</td>\n",
       "    </tr>\n",
       "    <tr>\n",
       "      <th>645</th>\n",
       "      <td>34036</td>\n",
       "      <td>Detective Conan: Episode One - Chiisaku Natta ...</td>\n",
       "    </tr>\n",
       "    <tr>\n",
       "      <th>454</th>\n",
       "      <td>6438</td>\n",
       "      <td>Detective Conan OVA 09: The Stranger in 10 Yea...</td>\n",
       "    </tr>\n",
       "    <tr>\n",
       "      <th>293</th>\n",
       "      <td>1506</td>\n",
       "      <td>Detective Conan Movie 10: Requiem of the Detec...</td>\n",
       "    </tr>\n",
       "    <tr>\n",
       "      <th>274</th>\n",
       "      <td>1367</td>\n",
       "      <td>Detective Conan Movie 08: Magician of the Silv...</td>\n",
       "    </tr>\n",
       "    <tr>\n",
       "      <th>252</th>\n",
       "      <td>235</td>\n",
       "      <td>Detective Conan</td>\n",
       "    </tr>\n",
       "    <tr>\n",
       "      <th>253</th>\n",
       "      <td>1364</td>\n",
       "      <td>Detective Conan Movie 05: Countdown to Heaven</td>\n",
       "    </tr>\n",
       "    <tr>\n",
       "      <th>524</th>\n",
       "      <td>780</td>\n",
       "      <td>Detective Conan Movie 02: The Fourteenth Target</td>\n",
       "    </tr>\n",
       "    <tr>\n",
       "      <th>544</th>\n",
       "      <td>779</td>\n",
       "      <td>Detective Conan Movie 01: The Timed Skyscraper</td>\n",
       "    </tr>\n",
       "  </tbody>\n",
       "</table>\n",
       "</div>"
      ],
      "text/plain": [
       "     anime_id                                               name\n",
       "344       781  Detective Conan Movie 03: The Last Wizard of t...\n",
       "345      1363     Detective Conan Movie 04: Captured in Her Eyes\n",
       "645     34036  Detective Conan: Episode One - Chiisaku Natta ...\n",
       "454      6438  Detective Conan OVA 09: The Stranger in 10 Yea...\n",
       "293      1506  Detective Conan Movie 10: Requiem of the Detec...\n",
       "274      1367  Detective Conan Movie 08: Magician of the Silv...\n",
       "252       235                                    Detective Conan\n",
       "253      1364      Detective Conan Movie 05: Countdown to Heaven\n",
       "524       780    Detective Conan Movie 02: The Fourteenth Target\n",
       "544       779     Detective Conan Movie 01: The Timed Skyscraper"
      ]
     },
     "metadata": {},
     "output_type": "display_data"
    }
   ],
   "source": [
    "recommended_anime = recommend_anime(anime_id=9963, top_n=10)\n",
    "display(recommended_anime)"
   ]
  },
  {
   "cell_type": "code",
   "execution_count": 17,
   "metadata": {},
   "outputs": [],
   "source": [
    "\n",
    "# Split dataset into training and testing sets\n",
    "train, test = train_test_split(data, test_size=0.2, random_state=42)\n",
    "\n",
    "# Initialize lists to store ground truth and predictions\n",
    "ground_truth = []\n",
    "predictions = []\n",
    "\n",
    "# Mean rating to determine relevance\n",
    "mean_rating = train['rating'].mean()\n",
    "\n",
    "for _, row in test.iterrows():\n",
    "    anime_id = row['anime_id']\n",
    "    \n",
    "    # Skip anime not present in the training set\n",
    "    if anime_id not in train['anime_id'].values:\n",
    "        continue\n",
    "    \n",
    "    recommended_anime = recommend_anime(anime_id, top_n=10)\n",
    "    \n",
    "    if recommended_anime.empty:\n",
    "        continue\n",
    "    \n",
    "    actual_ratings = test[test['anime_id'].isin(recommended_anime['anime_id'])]['rating']\n",
    "    true_relevant = (actual_ratings > mean_rating).astype(int).tolist()\n",
    "    \n",
    "    ground_truth.extend(true_relevant)\n",
    "    predictions.extend([1] * len(true_relevant))\n",
    "    \n",
    "# Include non-relevant predictions to avoid all 1s in predictions\n",
    "if not predictions:\n",
    "    predictions = [0]\n",
    "\n",
    "# Include non-relevant items in ground truth to avoid all 1s\n",
    "if not ground_truth:\n",
    "    ground_truth = [0]\n"
   ]
  },
  {
   "cell_type": "code",
   "execution_count": 18,
   "metadata": {},
   "outputs": [
    {
     "name": "stdout",
     "output_type": "stream",
     "text": [
      "Precision: 1.00\n",
      "Recall: 1.00\n",
      "F1-Score: 1.00\n"
     ]
    }
   ],
   "source": [
    "# Compute precision, recall, and F1-score\n",
    "\n",
    "precision = precision_score(ground_truth, predictions, average='macro', zero_division=0)\n",
    "recall = recall_score(ground_truth, predictions, average='macro', zero_division=0)\n",
    "f1 = f1_score(ground_truth, predictions, average='macro', zero_division=0)\n",
    "\n",
    "print(f'Precision: {precision:.2f}')\n",
    "print(f'Recall: {recall:.2f}')\n",
    "print(f'F1-Score: {f1:.2f}')"
   ]
  },
  {
   "cell_type": "markdown",
   "metadata": {},
   "source": [
    "# Can you explain the difference between user-based and item-based collaborative filtering?\n",
    "\n",
    "1. `User-Based Collaborative Filtering`:\n",
    "\n",
    "   Focuses on the similarity between users. Recommends items to a user based on the preferences of similar users.\n",
    "\n",
    "   - Advantages:\n",
    "\n",
    "     > Can capture the nuances of user preferences. Works well when there are many users with diverse tastes.\n",
    "\n",
    "   - Disadvantages:\n",
    "     > Scalability issues with large datasets due to the need to compare many user pairs. Can suffer from the \"cold start\" problem, where it struggles to make recommendations for new users with few interactions.\n",
    "\n",
    "2. `Item-Based Collaborative Filtering`:\n",
    "\n",
    "   Focuses on the similarity between items. Recommends items similar to those the user has interacted with before.\n",
    "\n",
    "   - Advantages:\n",
    "\n",
    "     > Typically more scalable than user-based filtering, as the number of items is usually smaller than the number of users.\n",
    "     > More stable recommendations, as item similarities don’t change as frequently as user preferences might.\n",
    "\n",
    "   - Disadvantages:\n",
    "     > May not capture all aspects of user preferences as effectively as user-based methods. Can still suffer from the \"cold start\" problem for new items.\n"
   ]
  },
  {
   "cell_type": "markdown",
   "metadata": {},
   "source": [
    "# What is collaborative filtering, and how does it work?\n",
    "\n",
    "Collaborative filtering is a technique that can filter out items that a user might like on the basis of reactions by similar users. It works by searching a large group of people and finding a smaller set of users with tastes similar to a particular user. It looks at the items they like and combines them to create a ranked list of suggestions. There are many ways to decide which users are similar and combine their choices to create a list of recommendations.\n",
    "\n",
    "1. Memory based\n",
    "   - User based\n",
    "   - Item based\n",
    "2. Model based\n",
    "   - Matrix Factorization\n",
    "   - Deep Learning Models\n",
    "\n",
    "It is applicable in E-commerce(for recommending products), Streaming services(for suggesting Movies,shows), Social Media(for showing content).\n"
   ]
  },
  {
   "cell_type": "markdown",
   "metadata": {},
   "source": []
  }
 ],
 "metadata": {
  "kernelspec": {
   "display_name": "Python 3",
   "language": "python",
   "name": "python3"
  },
  "language_info": {
   "codemirror_mode": {
    "name": "ipython",
    "version": 3
   },
   "file_extension": ".py",
   "mimetype": "text/x-python",
   "name": "python",
   "nbconvert_exporter": "python",
   "pygments_lexer": "ipython3",
   "version": "3.12.1"
  }
 },
 "nbformat": 4,
 "nbformat_minor": 2
}

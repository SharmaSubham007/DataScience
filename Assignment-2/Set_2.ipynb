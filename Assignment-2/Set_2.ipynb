{
 "cells": [
  {
   "cell_type": "code",
   "execution_count": 2,
   "metadata": {},
   "outputs": [],
   "source": [
    "import pandas as pd\n",
    "import numpy as np\n",
    "import matplotlib.pyplot as plt\n",
    "import scipy.stats as stats\n",
    "import seaborn as sns\n",
    "import statsmodels.api as smf"
   ]
  },
  {
   "cell_type": "markdown",
   "metadata": {},
   "source": [
    "# Q2"
   ]
  },
  {
   "cell_type": "code",
   "execution_count": 3,
   "metadata": {},
   "outputs": [
    {
     "name": "stdout",
     "output_type": "stream",
     "text": [
      "Probability of age of employee betweeen 38 and 44 is 34.13 %\n",
      "Probability of age of employee being more than 44 is 15.87 %\n",
      "Answer to part A: False\n",
      "The training program for employees under age 30 would attract 36 employees\n"
     ]
    }
   ],
   "source": [
    "mean = 38\n",
    "stddev = 6\n",
    "\n",
    "emp_under_38 = stats.norm.cdf(38, loc = mean, scale = stddev)\n",
    "emp_under_44 = stats.norm.cdf(44, loc = mean,  scale = stddev)\n",
    "\n",
    "emp_between_38_and_44 = (emp_under_44 - emp_under_38)\n",
    "print('Probability of age of employee betweeen 38 and 44 is',np.round(emp_between_38_and_44*100,2),'%') \n",
    "\n",
    "emp_over_44 = 1-stats.norm.cdf(44, loc = mean, scale = stddev)\n",
    "print('Probability of age of employee being more than 44 is',np.round(emp_over_44*100,2),'%')\n",
    "print('Answer to part A:',emp_over_44 > emp_between_38_and_44)\n",
    "\n",
    "emp_under_30 = stats.norm.cdf(30, loc = mean, scale = stddev)\n",
    "if(np.round(emp_under_30*400,0) == 36):\n",
    "    print(\"The training program for employees under age 30 would attract 36 employees\")\n",
    "else:\n",
    "    print(\"The given statement is false\")"
   ]
  },
  {
   "cell_type": "markdown",
   "metadata": {},
   "source": [
    "# Q4"
   ]
  },
  {
   "cell_type": "code",
   "execution_count": 4,
   "metadata": {},
   "outputs": [
    {
     "name": "stdout",
     "output_type": "stream",
     "text": [
      "The two variables a and b such that random value falling between them has probability 0.99: [ 48.5 151.5]\n"
     ]
    }
   ],
   "source": [
    "mean_q4 = 100\n",
    "stddev_q4 = 20\n",
    "p = np.round(stats.norm.interval(0.99,loc=100,scale=20),1)\n",
    "print(\"The two variables a and b such that random value falling between them has probability 0.99:\",p)"
   ]
  },
  {
   "cell_type": "markdown",
   "metadata": {},
   "source": [
    "# Q5"
   ]
  },
  {
   "cell_type": "code",
   "execution_count": 5,
   "metadata": {},
   "outputs": [],
   "source": [
    "mean1,mean2 = 5,7\n",
    "stddev1,stddev2 = 3,4\n",
    "combined_mean = mean1 + mean2\n",
    "combined_stddev = np.sqrt(stddev1**2 + stddev2**2)"
   ]
  },
  {
   "cell_type": "code",
   "execution_count": 6,
   "metadata": {},
   "outputs": [
    {
     "name": "stdout",
     "output_type": "stream",
     "text": [
      "Rupee range for 95% probability for annual profit of the company is 9.9 to 98.10000000000001 crore rupees\n"
     ]
    }
   ],
   "source": [
    "a, b = np.round(stats.norm.interval(0.95, combined_mean, combined_stddev),2)\n",
    "print(\"Rupee range for 95% probability for annual profit of the company is\",a*4.5,\"to\",b*4.5,\"crore rupees\")"
   ]
  },
  {
   "cell_type": "code",
   "execution_count": 7,
   "metadata": {},
   "outputs": [
    {
     "name": "stdout",
     "output_type": "stream",
     "text": [
      "The 5th percentile of Profit for the company is 17.0 Crore Rupees\n"
     ]
    }
   ],
   "source": [
    "Z = stats.norm.ppf(0.05)\n",
    "Fifth_percentile = (Z * combined_stddev) + combined_mean\n",
    "print('The 5th percentile of Profit for the company is',np.round((Fifth_percentile*45)/10,),'Crore Rupees')"
   ]
  },
  {
   "cell_type": "code",
   "execution_count": 9,
   "metadata": {},
   "outputs": [
    {
     "name": "stdout",
     "output_type": "stream",
     "text": [
      "There is a higher probability of loss in Division 1\n"
     ]
    }
   ],
   "source": [
    "# Probability of loss is making no profit\n",
    "Div_1_loss = stats.norm.cdf(0,loc=5,scale=3)*100\n",
    "Div_2_loss = stats.norm.cdf(0,loc=7,scale=4)*100\n",
    "\n",
    "def max_Loss(a,b):\n",
    "    if a>b:\n",
    "        return \"Division 1\"\n",
    "    else:\n",
    "        return \"Division 2\"\n",
    "\n",
    "print(\"There is a higher probability of loss in\",max_Loss(Div_1_loss,Div_2_loss))\n",
    "    "
   ]
  },
  {
   "cell_type": "code",
   "execution_count": null,
   "metadata": {},
   "outputs": [],
   "source": []
  }
 ],
 "metadata": {
  "kernelspec": {
   "display_name": "Python 3",
   "language": "python",
   "name": "python3"
  },
  "language_info": {
   "codemirror_mode": {
    "name": "ipython",
    "version": 3
   },
   "file_extension": ".py",
   "mimetype": "text/x-python",
   "name": "python",
   "nbconvert_exporter": "python",
   "pygments_lexer": "ipython3",
   "version": "3.12.1"
  }
 },
 "nbformat": 4,
 "nbformat_minor": 2
}

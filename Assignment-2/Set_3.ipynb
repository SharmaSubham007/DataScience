{
 "cells": [
  {
   "cell_type": "code",
   "execution_count": 2,
   "metadata": {},
   "outputs": [],
   "source": [
    "import pandas as pd\n",
    "import numpy as np\n",
    "import matplotlib.pyplot as plt\n",
    "import scipy.stats as stats\n",
    "import seaborn as sns\n",
    "import statsmodels.api as smf\n",
    "import warnings"
   ]
  },
  {
   "cell_type": "markdown",
   "metadata": {},
   "source": [
    "# Q5"
   ]
  },
  {
   "cell_type": "code",
   "execution_count": 3,
   "metadata": {},
   "outputs": [
    {
     "name": "stdout",
     "output_type": "stream",
     "text": [
      "Microsoft cannot conclude that Mozilla has a market share less than 5%\n"
     ]
    }
   ],
   "source": [
    "# Given N=2000, expected share(p) = 0.05 and actual share(p^)= 0.046\n",
    "N=2000\n",
    "share_exp = 0.05\n",
    "share_act = 0.046\n",
    "alpha =0.05\n",
    "\n",
    "# we need to calculate the z-score\n",
    "z = (share_act-share_exp)/(np.sqrt((share_exp*(1-share_exp))/N))\n",
    "\n",
    "# Now we can determine the Survival function for the calculated z-score\n",
    "result = stats.norm.sf(abs(z))\n",
    "\n",
    "# If the result is greater than type-1 error(False Positive), then our null Hypothesis is True\n",
    "if result>alpha:\n",
    "    print(\"Microsoft cannot conclude that Mozilla has a market share less than 5%\")\n",
    "else:\n",
    "    print(\"Microsoft can conclude that Mozilla has a market share less than 5%\")\n"
   ]
  },
  {
   "cell_type": "markdown",
   "metadata": {},
   "source": [
    "# Q8"
   ]
  },
  {
   "cell_type": "code",
   "execution_count": 8,
   "metadata": {},
   "outputs": [
    {
     "name": "stdout",
     "output_type": "stream",
     "text": [
      "The minimum number of employees we need to contact is 600.0\n"
     ]
    }
   ],
   "source": [
    "# for 95% confidence we can use ppf function and we need 0.025 in each tail so we will pass 0.975 as q\n",
    "z_score = stats.norm.ppf(0.975)\n",
    "\n",
    "# we know that Margin of Error = z * sqrt(p*(1-p)/n). Here we need to find n for 0.04 MOE and let's assume p=0.5\n",
    "p = 0.5\n",
    "moe = 0.04\n",
    "\n",
    "n = (p * (1-p)) *((z_score/moe)**2)\n",
    "print(\"The minimum number of employees we need to contact is\",np.round(n))\n"
   ]
  },
  {
   "cell_type": "markdown",
   "metadata": {},
   "source": [
    "# Q9"
   ]
  },
  {
   "cell_type": "code",
   "execution_count": 9,
   "metadata": {},
   "outputs": [
    {
     "name": "stdout",
     "output_type": "stream",
     "text": [
      "The minimum number of employees we need to contact is 846.0\n"
     ]
    }
   ],
   "source": [
    "# for 98% confidence we can use ppf function and we need 0.01 in each tail so we will pass 0.99 as q\n",
    "z_score = stats.norm.ppf(0.99)\n",
    "\n",
    "# we know that Margin of Error = z * sqrt(p*(1-p)/n). Here we need to find n for 0.04 MOE and let's assume p=0.5\n",
    "p = 0.5\n",
    "moe = 0.04\n",
    "\n",
    "n = (p * (1-p)) *((z_score/moe)**2)\n",
    "print(\"The minimum number of employees we need to contact is\",np.round(n))"
   ]
  }
 ],
 "metadata": {
  "kernelspec": {
   "display_name": "Python 3",
   "language": "python",
   "name": "python3"
  },
  "language_info": {
   "codemirror_mode": {
    "name": "ipython",
    "version": 3
   },
   "file_extension": ".py",
   "mimetype": "text/x-python",
   "name": "python",
   "nbconvert_exporter": "python",
   "pygments_lexer": "ipython3",
   "version": "3.12.1"
  }
 },
 "nbformat": 4,
 "nbformat_minor": 2
}

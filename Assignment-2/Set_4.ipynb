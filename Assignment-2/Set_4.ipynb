{
 "cells": [
  {
   "cell_type": "code",
   "execution_count": 1,
   "metadata": {},
   "outputs": [],
   "source": [
    "import pandas as pd\n",
    "import numpy as np\n",
    "import matplotlib.pyplot as plt\n",
    "import scipy.stats as stats\n",
    "import seaborn as sns\n",
    "import statsmodels.api as smf\n",
    "import warnings"
   ]
  },
  {
   "cell_type": "markdown",
   "metadata": {},
   "source": [
    "# Q3"
   ]
  },
  {
   "cell_type": "code",
   "execution_count": 2,
   "metadata": {},
   "outputs": [
    {
     "name": "stdout",
     "output_type": "stream",
     "text": [
      "The probability of an investigation is: 21.1 %\n"
     ]
    }
   ],
   "source": [
    "n = 100  # Sample size\n",
    "mu = 50  # Population mean\n",
    "sigma = 40  # Population standard deviation\n",
    "lower_bound = 45  # Lower bound for investigation\n",
    "upper_bound = 55  # Upper bound for investigation\n",
    "\n",
    "# We have to calculate the standard error of the mean\n",
    "se = sigma / (np.sqrt(n))\n",
    "\n",
    "# Now we have to calculate the z-scores for the lower and upper bounds\n",
    "z_lower = (lower_bound - mu) / se\n",
    "z_upper = (upper_bound - mu) / se\n",
    "\n",
    "# To calculate the probabilities we can use the cdf function\n",
    "prob_lower = stats.norm.cdf(z_lower)        # P(X<45)\n",
    "prob_upper = 1 - stats.norm.cdf(z_upper)    # P(X>55)\n",
    "\n",
    "# Total probability of an investigation = P(X<45) + P(X>55)\n",
    "prob_investigation = prob_lower + prob_upper\n",
    "\n",
    "print(\"The probability of an investigation is:\",np.round(prob_investigation*100,1),\"%\")"
   ]
  },
  {
   "cell_type": "markdown",
   "metadata": {},
   "source": [
    "# Q4"
   ]
  },
  {
   "cell_type": "code",
   "execution_count": 3,
   "metadata": {},
   "outputs": [
    {
     "name": "stdout",
     "output_type": "stream",
     "text": [
      "The minimum number of transactions is 250.0\n"
     ]
    }
   ],
   "source": [
    "# We can use t-score formula for calculating the number of transactions.\n",
    "# Since we need 5% probability of investigation, we have to calculate 95% confidence level t-score.\n",
    "t = stats.t.ppf(0.025,df=150)\n",
    "# For 95% confidence t = 1.97\n",
    "# We know that t = (x – μ) / (σ / √n)\n",
    "min_transactions = ((t * sigma) / (lower_bound - mu)) ** 2\n",
    "print(\"The minimum number of transactions is\",np.round(min_transactions))\n"
   ]
  }
 ],
 "metadata": {
  "kernelspec": {
   "display_name": "Python 3",
   "language": "python",
   "name": "python3"
  },
  "language_info": {
   "codemirror_mode": {
    "name": "ipython",
    "version": 3
   },
   "file_extension": ".py",
   "mimetype": "text/x-python",
   "name": "python",
   "nbconvert_exporter": "python",
   "pygments_lexer": "ipython3",
   "version": "3.12.1"
  }
 },
 "nbformat": 4,
 "nbformat_minor": 2
}
